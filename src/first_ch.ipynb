{
 "cells": [
  {
   "cell_type": "markdown",
   "metadata": {},
   "source": [
    "## きのこデータ可視化\n"
   ]
  },
  {
   "cell_type": "code",
   "execution_count": 21,
   "metadata": {},
   "outputs": [],
   "source": [
    "import os\n",
    "import pandas as pd\n",
    "import numpy as np\n",
    "from typing import Dict, List\n",
    "import importlib\n",
    "from pathlib import Path\n",
    "import matplotlib.pyplot as plt\n",
    "import MeCab\n",
    "from scipy.spatial import distance\n",
    "from sklearn.metrics import accuracy_score, f1_score\n",
    "from sklearn.model_selection import KFold\n",
    "import os\n",
    "import yaml\n",
    "import seaborn as sns\n",
    "from sklearn.metrics import confusion_matrix\n",
    "import lightgbm as lgb"
   ]
  },
  {
   "cell_type": "code",
   "execution_count": 22,
   "metadata": {},
   "outputs": [],
   "source": [
    "# INFO: import local libraries\n",
    "import python.data_manager as dm\n",
    "import python.Mecab_processing as mp\n",
    "import python.util as util"
   ]
  },
  {
   "cell_type": "code",
   "execution_count": 23,
   "metadata": {},
   "outputs": [
    {
     "name": "stdout",
     "output_type": "stream",
     "text": [
      "BASE_PATH: /home/masa1357/Dockerdata/kaggle/Kaggle_BinaryPredictionofPoisonousMushrooms\n",
      "DATA_PATH: /home/masa1357/Dockerdata/kaggle/Kaggle_BinaryPredictionofPoisonousMushrooms/data\n",
      "MODEL_PATH: /home/masa1357/Dockerdata/kaggle/Kaggle_BinaryPredictionofPoisonousMushrooms/model\n"
     ]
    }
   ],
   "source": [
    "BASE_PATH = Path.cwd().parent\n",
    "DATA_PATH = BASE_PATH / \"data\"\n",
    "MODEL_PATH = BASE_PATH / \"model\"\n",
    "print(f\"BASE_PATH: {BASE_PATH}\")\n",
    "print(f\"DATA_PATH: {DATA_PATH}\")\n",
    "print(f\"MODEL_PATH: {MODEL_PATH}\")"
   ]
  },
  {
   "cell_type": "code",
   "execution_count": 24,
   "metadata": {},
   "outputs": [
    {
     "name": "stderr",
     "output_type": "stream",
     "text": [
      "2024-08-23 12:44:24,615 : python.util : INFO : 34 : Test_message\n"
     ]
    }
   ],
   "source": [
    "importlib.reload(util)\n",
    "# ? logger読み込み\n",
    "name = \"MushroomsVisualization\"\n",
    "logger = util.set_logger()\n",
    "# ? seed値固定\n",
    "seed = 42\n",
    "util.set_seed(seed)"
   ]
  },
  {
   "cell_type": "markdown",
   "metadata": {},
   "source": [
    "### read data\n"
   ]
  },
  {
   "cell_type": "code",
   "execution_count": 25,
   "metadata": {},
   "outputs": [
    {
     "name": "stdout",
     "output_type": "stream",
     "text": [
      "<class 'pandas.core.frame.DataFrame'>\n",
      "RangeIndex: 3116945 entries, 0 to 3116944\n",
      "Data columns (total 22 columns):\n",
      " #   Column                Dtype  \n",
      "---  ------                -----  \n",
      " 0   id                    int64  \n",
      " 1   class                 object \n",
      " 2   cap-diameter          float64\n",
      " 3   cap-shape             object \n",
      " 4   cap-surface           object \n",
      " 5   cap-color             object \n",
      " 6   does-bruise-or-bleed  object \n",
      " 7   gill-attachment       object \n",
      " 8   gill-spacing          object \n",
      " 9   gill-color            object \n",
      " 10  stem-height           float64\n",
      " 11  stem-width            float64\n",
      " 12  stem-root             object \n",
      " 13  stem-surface          object \n",
      " 14  stem-color            object \n",
      " 15  veil-type             object \n",
      " 16  veil-color            object \n",
      " 17  has-ring              object \n",
      " 18  ring-type             object \n",
      " 19  spore-print-color     object \n",
      " 20  habitat               object \n",
      " 21  season                object \n",
      "dtypes: float64(3), int64(1), object(18)\n",
      "memory usage: 523.2+ MB\n"
     ]
    }
   ],
   "source": [
    "df = pd.read_csv(DATA_PATH / \"train.csv\")\n",
    "df.info()"
   ]
  },
  {
   "cell_type": "code",
   "execution_count": 26,
   "metadata": {},
   "outputs": [
    {
     "data": {
      "text/html": [
       "<div>\n",
       "<style scoped>\n",
       "    .dataframe tbody tr th:only-of-type {\n",
       "        vertical-align: middle;\n",
       "    }\n",
       "\n",
       "    .dataframe tbody tr th {\n",
       "        vertical-align: top;\n",
       "    }\n",
       "\n",
       "    .dataframe thead th {\n",
       "        text-align: right;\n",
       "    }\n",
       "</style>\n",
       "<table border=\"1\" class=\"dataframe\">\n",
       "  <thead>\n",
       "    <tr style=\"text-align: right;\">\n",
       "      <th></th>\n",
       "      <th>id</th>\n",
       "      <th>cap-diameter</th>\n",
       "      <th>stem-height</th>\n",
       "      <th>stem-width</th>\n",
       "    </tr>\n",
       "  </thead>\n",
       "  <tbody>\n",
       "    <tr>\n",
       "      <th>count</th>\n",
       "      <td>3.116945e+06</td>\n",
       "      <td>3.116941e+06</td>\n",
       "      <td>3.116945e+06</td>\n",
       "      <td>3.116945e+06</td>\n",
       "    </tr>\n",
       "    <tr>\n",
       "      <th>mean</th>\n",
       "      <td>1.558472e+06</td>\n",
       "      <td>6.309848e+00</td>\n",
       "      <td>6.348333e+00</td>\n",
       "      <td>1.115379e+01</td>\n",
       "    </tr>\n",
       "    <tr>\n",
       "      <th>std</th>\n",
       "      <td>8.997847e+05</td>\n",
       "      <td>4.657931e+00</td>\n",
       "      <td>2.699755e+00</td>\n",
       "      <td>8.095477e+00</td>\n",
       "    </tr>\n",
       "    <tr>\n",
       "      <th>min</th>\n",
       "      <td>0.000000e+00</td>\n",
       "      <td>3.000000e-02</td>\n",
       "      <td>0.000000e+00</td>\n",
       "      <td>0.000000e+00</td>\n",
       "    </tr>\n",
       "    <tr>\n",
       "      <th>25%</th>\n",
       "      <td>7.792360e+05</td>\n",
       "      <td>3.320000e+00</td>\n",
       "      <td>4.670000e+00</td>\n",
       "      <td>4.970000e+00</td>\n",
       "    </tr>\n",
       "    <tr>\n",
       "      <th>50%</th>\n",
       "      <td>1.558472e+06</td>\n",
       "      <td>5.750000e+00</td>\n",
       "      <td>5.880000e+00</td>\n",
       "      <td>9.650000e+00</td>\n",
       "    </tr>\n",
       "    <tr>\n",
       "      <th>75%</th>\n",
       "      <td>2.337708e+06</td>\n",
       "      <td>8.240000e+00</td>\n",
       "      <td>7.410000e+00</td>\n",
       "      <td>1.563000e+01</td>\n",
       "    </tr>\n",
       "    <tr>\n",
       "      <th>max</th>\n",
       "      <td>3.116944e+06</td>\n",
       "      <td>8.067000e+01</td>\n",
       "      <td>8.872000e+01</td>\n",
       "      <td>1.029000e+02</td>\n",
       "    </tr>\n",
       "  </tbody>\n",
       "</table>\n",
       "</div>"
      ],
      "text/plain": [
       "                 id  cap-diameter   stem-height    stem-width\n",
       "count  3.116945e+06  3.116941e+06  3.116945e+06  3.116945e+06\n",
       "mean   1.558472e+06  6.309848e+00  6.348333e+00  1.115379e+01\n",
       "std    8.997847e+05  4.657931e+00  2.699755e+00  8.095477e+00\n",
       "min    0.000000e+00  3.000000e-02  0.000000e+00  0.000000e+00\n",
       "25%    7.792360e+05  3.320000e+00  4.670000e+00  4.970000e+00\n",
       "50%    1.558472e+06  5.750000e+00  5.880000e+00  9.650000e+00\n",
       "75%    2.337708e+06  8.240000e+00  7.410000e+00  1.563000e+01\n",
       "max    3.116944e+06  8.067000e+01  8.872000e+01  1.029000e+02"
      ]
     },
     "execution_count": 26,
     "metadata": {},
     "output_type": "execute_result"
    }
   ],
   "source": [
    "df.describe()"
   ]
  },
  {
   "cell_type": "code",
   "execution_count": 27,
   "metadata": {},
   "outputs": [
    {
     "data": {
      "text/html": [
       "<div>\n",
       "<style scoped>\n",
       "    .dataframe tbody tr th:only-of-type {\n",
       "        vertical-align: middle;\n",
       "    }\n",
       "\n",
       "    .dataframe tbody tr th {\n",
       "        vertical-align: top;\n",
       "    }\n",
       "\n",
       "    .dataframe thead th {\n",
       "        text-align: right;\n",
       "    }\n",
       "</style>\n",
       "<table border=\"1\" class=\"dataframe\">\n",
       "  <thead>\n",
       "    <tr style=\"text-align: right;\">\n",
       "      <th></th>\n",
       "      <th>id</th>\n",
       "      <th>class</th>\n",
       "      <th>cap-diameter</th>\n",
       "      <th>cap-shape</th>\n",
       "      <th>cap-surface</th>\n",
       "      <th>cap-color</th>\n",
       "      <th>does-bruise-or-bleed</th>\n",
       "      <th>gill-attachment</th>\n",
       "      <th>gill-spacing</th>\n",
       "      <th>gill-color</th>\n",
       "      <th>...</th>\n",
       "      <th>stem-root</th>\n",
       "      <th>stem-surface</th>\n",
       "      <th>stem-color</th>\n",
       "      <th>veil-type</th>\n",
       "      <th>veil-color</th>\n",
       "      <th>has-ring</th>\n",
       "      <th>ring-type</th>\n",
       "      <th>spore-print-color</th>\n",
       "      <th>habitat</th>\n",
       "      <th>season</th>\n",
       "    </tr>\n",
       "  </thead>\n",
       "  <tbody>\n",
       "    <tr>\n",
       "      <th>0</th>\n",
       "      <td>0</td>\n",
       "      <td>e</td>\n",
       "      <td>8.80</td>\n",
       "      <td>f</td>\n",
       "      <td>s</td>\n",
       "      <td>u</td>\n",
       "      <td>f</td>\n",
       "      <td>a</td>\n",
       "      <td>c</td>\n",
       "      <td>w</td>\n",
       "      <td>...</td>\n",
       "      <td>NaN</td>\n",
       "      <td>NaN</td>\n",
       "      <td>w</td>\n",
       "      <td>NaN</td>\n",
       "      <td>NaN</td>\n",
       "      <td>f</td>\n",
       "      <td>f</td>\n",
       "      <td>NaN</td>\n",
       "      <td>d</td>\n",
       "      <td>a</td>\n",
       "    </tr>\n",
       "    <tr>\n",
       "      <th>1</th>\n",
       "      <td>1</td>\n",
       "      <td>p</td>\n",
       "      <td>4.51</td>\n",
       "      <td>x</td>\n",
       "      <td>h</td>\n",
       "      <td>o</td>\n",
       "      <td>f</td>\n",
       "      <td>a</td>\n",
       "      <td>c</td>\n",
       "      <td>n</td>\n",
       "      <td>...</td>\n",
       "      <td>NaN</td>\n",
       "      <td>y</td>\n",
       "      <td>o</td>\n",
       "      <td>NaN</td>\n",
       "      <td>NaN</td>\n",
       "      <td>t</td>\n",
       "      <td>z</td>\n",
       "      <td>NaN</td>\n",
       "      <td>d</td>\n",
       "      <td>w</td>\n",
       "    </tr>\n",
       "    <tr>\n",
       "      <th>2</th>\n",
       "      <td>2</td>\n",
       "      <td>e</td>\n",
       "      <td>6.94</td>\n",
       "      <td>f</td>\n",
       "      <td>s</td>\n",
       "      <td>b</td>\n",
       "      <td>f</td>\n",
       "      <td>x</td>\n",
       "      <td>c</td>\n",
       "      <td>w</td>\n",
       "      <td>...</td>\n",
       "      <td>NaN</td>\n",
       "      <td>s</td>\n",
       "      <td>n</td>\n",
       "      <td>NaN</td>\n",
       "      <td>NaN</td>\n",
       "      <td>f</td>\n",
       "      <td>f</td>\n",
       "      <td>NaN</td>\n",
       "      <td>l</td>\n",
       "      <td>w</td>\n",
       "    </tr>\n",
       "    <tr>\n",
       "      <th>3</th>\n",
       "      <td>3</td>\n",
       "      <td>e</td>\n",
       "      <td>3.88</td>\n",
       "      <td>f</td>\n",
       "      <td>y</td>\n",
       "      <td>g</td>\n",
       "      <td>f</td>\n",
       "      <td>s</td>\n",
       "      <td>NaN</td>\n",
       "      <td>g</td>\n",
       "      <td>...</td>\n",
       "      <td>NaN</td>\n",
       "      <td>NaN</td>\n",
       "      <td>w</td>\n",
       "      <td>NaN</td>\n",
       "      <td>NaN</td>\n",
       "      <td>f</td>\n",
       "      <td>f</td>\n",
       "      <td>NaN</td>\n",
       "      <td>d</td>\n",
       "      <td>u</td>\n",
       "    </tr>\n",
       "    <tr>\n",
       "      <th>4</th>\n",
       "      <td>4</td>\n",
       "      <td>e</td>\n",
       "      <td>5.85</td>\n",
       "      <td>x</td>\n",
       "      <td>l</td>\n",
       "      <td>w</td>\n",
       "      <td>f</td>\n",
       "      <td>d</td>\n",
       "      <td>NaN</td>\n",
       "      <td>w</td>\n",
       "      <td>...</td>\n",
       "      <td>NaN</td>\n",
       "      <td>NaN</td>\n",
       "      <td>w</td>\n",
       "      <td>NaN</td>\n",
       "      <td>NaN</td>\n",
       "      <td>f</td>\n",
       "      <td>f</td>\n",
       "      <td>NaN</td>\n",
       "      <td>g</td>\n",
       "      <td>a</td>\n",
       "    </tr>\n",
       "  </tbody>\n",
       "</table>\n",
       "<p>5 rows × 22 columns</p>\n",
       "</div>"
      ],
      "text/plain": [
       "   id class  cap-diameter cap-shape cap-surface cap-color  \\\n",
       "0   0     e          8.80         f           s         u   \n",
       "1   1     p          4.51         x           h         o   \n",
       "2   2     e          6.94         f           s         b   \n",
       "3   3     e          3.88         f           y         g   \n",
       "4   4     e          5.85         x           l         w   \n",
       "\n",
       "  does-bruise-or-bleed gill-attachment gill-spacing gill-color  ...  \\\n",
       "0                    f               a            c          w  ...   \n",
       "1                    f               a            c          n  ...   \n",
       "2                    f               x            c          w  ...   \n",
       "3                    f               s          NaN          g  ...   \n",
       "4                    f               d          NaN          w  ...   \n",
       "\n",
       "   stem-root  stem-surface stem-color veil-type veil-color has-ring ring-type  \\\n",
       "0        NaN           NaN          w       NaN        NaN        f         f   \n",
       "1        NaN             y          o       NaN        NaN        t         z   \n",
       "2        NaN             s          n       NaN        NaN        f         f   \n",
       "3        NaN           NaN          w       NaN        NaN        f         f   \n",
       "4        NaN           NaN          w       NaN        NaN        f         f   \n",
       "\n",
       "  spore-print-color habitat season  \n",
       "0               NaN       d      a  \n",
       "1               NaN       d      w  \n",
       "2               NaN       l      w  \n",
       "3               NaN       d      u  \n",
       "4               NaN       g      a  \n",
       "\n",
       "[5 rows x 22 columns]"
      ]
     },
     "execution_count": 27,
     "metadata": {},
     "output_type": "execute_result"
    }
   ],
   "source": [
    "df.head()"
   ]
  },
  {
   "cell_type": "markdown",
   "metadata": {},
   "source": [
    "### カテゴリカル変数を dammy 変換\n"
   ]
  },
  {
   "cell_type": "markdown",
   "metadata": {},
   "source": [
    "### NaN の置換\n",
    "\n",
    "NaN がある column :\n",
    "\n",
    "- cap-surface\n",
    "- gill-attachment\n",
    "- stem-surface\n",
    "- veil-type\n",
    "- veil-color\n",
    "- spore-print-color\n",
    "- stem-root\n",
    "- gill-spacing\n"
   ]
  },
  {
   "cell_type": "code",
   "execution_count": 28,
   "metadata": {},
   "outputs": [
    {
     "data": {
      "text/plain": [
       "Index(['class', 'cap-shape', 'cap-surface', 'cap-color',\n",
       "       'does-bruise-or-bleed', 'gill-attachment', 'gill-spacing', 'gill-color',\n",
       "       'stem-root', 'stem-surface', 'stem-color', 'veil-type', 'veil-color',\n",
       "       'has-ring', 'ring-type', 'spore-print-color', 'habitat', 'season'],\n",
       "      dtype='object')"
      ]
     },
     "execution_count": 28,
     "metadata": {},
     "output_type": "execute_result"
    }
   ],
   "source": [
    "# カテゴリカルな列を抽出する\n",
    "categorical_columns = df.select_dtypes(include=[\"object\", \"category\"]).columns\n",
    "categorical_columns"
   ]
  },
  {
   "cell_type": "code",
   "execution_count": 29,
   "metadata": {},
   "outputs": [
    {
     "name": "stderr",
     "output_type": "stream",
     "text": [
      "2024-08-23 12:44:28,871 : python.util : INFO : 2 : class: ['e' 'p']\n",
      "\n",
      "2024-08-23 12:44:29,068 : python.util : INFO : 2 : cap-shape: ['f' 'x' 'p' 'b' 'o' 'c' 's' 'd' 'e' 'n' nan 'w' 'k' 'l' '19.29' '5 f' 't'\n",
      " 'g' 'z' 'a' '2.85' '7 x' 'r' 'u' '3.55' 'is s' 'y' '4.22' '3.6' '21.56'\n",
      " 'i' '6 x' '24.16' '8' 'm' 'ring-type' '10.13' 'is p' '7.43' 'h' '0.82'\n",
      " '10.46' '2.77' '2.94' '12.62' '5.15' '19.04' '4.97' '49.21' 'b f' '9.13'\n",
      " '1.66' '3.37' '7.21' '3.25' '11.12' '3 x' '4.3' '7.41' '6.21' '8.29'\n",
      " '54.78' '20.25' '3.52' '3.04' '2.63' '3.91' '6.44' '8.3' '7.6' '17.44'\n",
      " '4.33' '2.82' '6.53' '19.06']\n",
      "\n",
      "2024-08-23 12:44:29,295 : python.util : INFO : 2 : cap-surface: ['s' 'h' 'y' 'l' 't' 'e' 'g' nan 'd' 'i' 'w' 'k' '15.94' 'f' 'n' 'r' 'o'\n",
      " 'a' 'u' 'z' '2.7' 'does l' '5.07' 'p' 'b' 'm' 'cap-diameter' '1.43' 'x'\n",
      " '7.14' 'c' 'is h' 'does t' '0.85' '6.57' '12.79' '6.45' '4.66' '23.18'\n",
      " '3.06' '16.39' '4.21' 'veil-color' '11.78' '8.1' 'has-ring' 'does h'\n",
      " '1.42' 'class' 'has h' 'does None' '10.83' 'season' '8.96' '14.04' '5.73'\n",
      " 'is None' '24.38' '2.81' '0.88' '2.11' '2.79' 'ring-type'\n",
      " 'does-bruise-or-bleed' '4.93' 'spore-print-color' 'spore-color' '2.92'\n",
      " '2.51' '7.99' 'is y' '3.64' '3.33' '41.91' '12.2' '8.01' '9.22' '1.14'\n",
      " '6.49' '10.34' '10.1' '1.08' 'is k' '0.87']\n",
      "\n",
      "2024-08-23 12:44:29,507 : python.util : INFO : 2 : cap-color: ['u' 'o' 'b' 'g' 'w' 'n' 'e' 'y' 'r' 'p' 'k' 'l' 'i' 'h' 'd' 's' 'a' 'f'\n",
      " '2.05' 'season' 'c' 'x' '13' '7.72' 'm' 'z' '6.76' '7.15' 't' 'ring-type'\n",
      " nan 'class' '12.89' '8.83' '24.75' '22.38' '1.51' '10.1' '17.94' '3.57'\n",
      " 'does n' '4.89' '6.2' '21.53' '6.41' '4.98' '3.95' 'does-bruise-or-bleed'\n",
      " '6.59' '5.25' 'veil-color' '6.9' '5.41' '11.13' '3.11' '2.57' '17.93'\n",
      " '2.7' '8.57' '11.92' '3.08' '2.82' '4.24' '17.19' '3.34' '7' '2.9' '6.36'\n",
      " '5.91' '10.56' '26.89' '4. n' '20.62' 'stem-surface' '20.02' '20' '25.98'\n",
      " '8.67' '9.02']\n",
      "\n",
      "2024-08-23 12:44:29,723 : python.util : INFO : 2 : does-bruise-or-bleed: ['f' 't' 'd' 'has-ring' 'w' 'o' 'b' 'x' 'p' nan 'g' 'y' 'r' 'a' 'l' 'i'\n",
      " 'c' 'n' 'z' 's' 'k' 'h' '3.43' 'e' '4.42' '2.9' 'u']\n",
      "\n",
      "2024-08-23 12:44:29,943 : python.util : INFO : 2 : gill-attachment: ['a' 'x' 's' 'd' 'e' nan 'f' 'p' 'l' 'm' 'b' '32.54' 'n' 'g' 'i' 'u'\n",
      " 'does-bruise-or-bleed' 't' 'o' 'c' 'w' '4.64' 'k' 'r' '4.77' 'h' 'p p'\n",
      " '7.92' 'z' 'season' 'y' '8.79' 'does None' 'has f' 'ring-type' '16.33'\n",
      " '10.85' '20.07' '2.82' '7.86' '3.91' 'does' '10.23' '6.74' '0.92' '3.45'\n",
      " '1' 'is a' '3.71' '50.44' '11.62' 'has d' '1.32' '8.47' '6.11' '2.41'\n",
      " '2.54' '6.32' '19.65' '15.49' '4.01' '8.37' 'does f' '28.7' '13.15'\n",
      " '1.37' '28.15' '7.09' '9.88' '2.67' '18.21' '1.48' '5.93' '1.51' '16.27'\n",
      " '11.26' '2.79' 'is f' '13.94']\n",
      "\n",
      "2024-08-23 12:44:30,176 : python.util : INFO : 2 : gill-spacing: ['c' nan 'd' 'f' 'x' 'b' 'a' '3.61' '2.69' 'k' '4.8' 'e' 'y' 'class' 's'\n",
      " '9.01' 'p' '3.92' '5.22' '6.67' '4.04' 't' '0.73' 'i' '3.57' '24.38' 'w'\n",
      " 'h' 'cap-surface' 'l' '1' '12.27' '5.42' 'r' '1.6' 'n' 'g' '0' '3.81'\n",
      " '4.09' '1.36' '3.24' '5.55' '5.7' '3.62' 'does f' '6.4' '1.88' '55.13']\n",
      "\n",
      "2024-08-23 12:44:30,424 : python.util : INFO : 2 : gill-color: ['w' 'n' 'g' 'k' 'y' 'f' 'p' 'o' 'b' 'u' 'e' 'r' 'd' 't' '3.45' 'z' '5'\n",
      " '3.39' 'season' 'h' 'x' 's' '4' 'class' 'c' 'm' 'spacing' '0.92' nan\n",
      " '18.12' 'l' 'does w' 'a' '7.59' '8.06' '6.19' 'has-ring' '4.49' '9.46'\n",
      " '5.01' 'ring-type' '3.4' 'i' '17' '10.07' 'stem-root' '20.6'\n",
      " 'spore-print-color' '18.03' 'does-bruise-or-bleed' '8.83' 'habitat'\n",
      " '10.21' '4.64' '6.4' 'is y' 'e y' '1.91' 'does n' '16.41' '6.41'\n",
      " 'veil-type' '20.44' '8.37']\n",
      "\n",
      "2024-08-23 12:44:30,644 : python.util : INFO : 2 : stem-root: [nan 'b' 'c' 'r' 's' 'f' '5.59' '2.77' '20.01' 'y' 'o' 'k' 'd' 'n' 'w' 'u'\n",
      " 'p' 'x' 'i' '10.87' 'a' '3.63' 't' 'm' 'l' 'h' 'g' '16.88' '15.69' '1.48'\n",
      " '3.23' 'e' '20.0' '18.06' 'z' 'spore-print-color' '3.49' '13.03' '7.15']\n",
      "\n",
      "2024-08-23 12:44:30,821 : python.util : INFO : 2 : stem-surface: [nan 'y' 's' 't' 'g' 'h' 'k' 'i' 'f' 'l' 'd' 'x' '12.04' 'w' 'a' 'o' 'c'\n",
      " 'n' 'm' 'e' 'p' 'z' '6.58' '4.34' 'b' '3.89' 'r' '25.83' '1.59' '0.0'\n",
      " '5.97' '5.81' 'u' 'season' '10.48' '3.68' '5.56' '4.41' '5.48' '5.51'\n",
      " 'class' 'has-ring' '13.1' '17.46' '5.35' '7.23' 'does None' '1.03'\n",
      " 'does s' '7.45' 'has h' 'does-bruise-or-bleed' '1.94' '49.46' '19.35'\n",
      " '2.68' '4.74' 'spore-print-color' '10.93' '24.12' '13.94']\n",
      "\n",
      "2024-08-23 12:44:31,016 : python.util : INFO : 2 : stem-color: ['w' 'o' 'n' 'y' 'e' 'u' 'p' 'f' 'g' 'r' 'k' 'l' 'b' '3.13' 't' 'z' 'a'\n",
      " 'h' 'd' nan 's' '7.33' 'is n' 'i' 'c' 'x' 'e n' '1.75' 'm' '33.52'\n",
      " 'ring-type' '2.78' 'spore-print-color' '23.59' '8.32' 'is w' '26.4'\n",
      " '4.75' '7.84' 'class' '2.75' '8.49' '4.49' '1.41' '17.45' '3.53' '12.92'\n",
      " '3.98' '20.07' '7.7' '22.6' '6.31' '6.09' '3.56' '3.37' '4.62' '2.54'\n",
      " '39.51' '18.06' '4.33']\n",
      "\n",
      "2024-08-23 12:44:31,233 : python.util : INFO : 2 : veil-type: [nan 'u' 'd' 'a' 'h' '21.11' 'g' 'c' 'e' 'y' 'i' 'f' 'is None' 't' 'w' 'p'\n",
      " 'b' 's' 'k' 'r' 'l' 'n' '5.94']\n",
      "\n",
      "2024-08-23 12:44:31,398 : python.util : INFO : 2 : veil-color: [nan 'n' 'w' 'k' 'y' 'e' 'u' 'p' 'd' 'g' 'r' 'h' 's' '8.25' 't' 'c' 'o'\n",
      " 'i' '2.49' 'f' 'a' 'b' 'l' 'z' '3.32']\n",
      "\n",
      "2024-08-23 12:44:31,562 : python.util : INFO : 2 : has-ring: ['f' 't' 'h' 'r' 'y' 'c' 'e' 'g' 'l' 's' nan 'p' 'x' 'k' 'z' 'f has-ring'\n",
      " 'd' 'o' 'n' 'm' 'i' '10.3' 'w' 'a']\n",
      "\n",
      "2024-08-23 12:44:31,775 : python.util : INFO : 2 : ring-type: ['f' 'z' 'e' nan 'p' 'l' 'g' 'r' 'm' 'y' 'h' 'o' 't' 'ring-type' 'a' 'd'\n",
      " 's' 'x' '4' 'b' '15' 'u' 'n' 'w' 'does f' '3.12' 'i' 'season' 'k' 'c'\n",
      " 'does-bruise-or-bleed' '11' '23.6' '1' '14' '2' 'spore-print-color'\n",
      " 'class' 'sp' '2.87' '8.25']\n",
      "\n",
      "2024-08-23 12:44:32,004 : python.util : INFO : 2 : spore-print-color: [nan 'k' 'w' 'p' 'n' 'r' 'u' 'g' 't' 'f' 'd' 'l' 'y' 'a' 's' '2.49' 'e'\n",
      " 'o' 'c' 'b' '10 None' 'h' 'x' '9 None' 'i' 'm' 'veil-color' 'class'\n",
      " '2.62' 'season' '9.55' '6.36' '4.58']\n",
      "\n",
      "2024-08-23 12:44:32,169 : python.util : INFO : 2 : habitat: ['d' 'l' 'g' 'h' 'p' 'm' 'u' 'w' 'y' nan 'n' 'a' 's' 'k' 'habitat' 'z'\n",
      " '8.09' '17.1' 'b' 't' 'c' '9.28' 'ring-type' 'e' 'r'\n",
      " 'does-bruise-or-bleed' 'f' 'is w' 'o' '2.94' 'x' '4' 'is h' '5.56'\n",
      " 'class' 'i' '10.07' '7.31' '5.62' 'spore-print-color' 'cap-diameter'\n",
      " '3.11' '16.46' '7.37' 'veil-type' '17.38' '1.66' '6.63' '18.35' '6.75'\n",
      " '2.44' '3.68' '2.25']\n",
      "\n",
      "2024-08-23 12:44:32,421 : python.util : INFO : 2 : season: ['a' 'w' 'u' 's']\n",
      "\n"
     ]
    },
    {
     "data": {
      "text/html": [
       "<div>\n",
       "<style scoped>\n",
       "    .dataframe tbody tr th:only-of-type {\n",
       "        vertical-align: middle;\n",
       "    }\n",
       "\n",
       "    .dataframe tbody tr th {\n",
       "        vertical-align: top;\n",
       "    }\n",
       "\n",
       "    .dataframe thead th {\n",
       "        text-align: right;\n",
       "    }\n",
       "</style>\n",
       "<table border=\"1\" class=\"dataframe\">\n",
       "  <thead>\n",
       "    <tr style=\"text-align: right;\">\n",
       "      <th></th>\n",
       "      <th>id</th>\n",
       "      <th>class</th>\n",
       "      <th>cap-diameter</th>\n",
       "      <th>cap-shape</th>\n",
       "      <th>cap-surface</th>\n",
       "      <th>cap-color</th>\n",
       "      <th>does-bruise-or-bleed</th>\n",
       "      <th>gill-attachment</th>\n",
       "      <th>gill-spacing</th>\n",
       "      <th>gill-color</th>\n",
       "      <th>...</th>\n",
       "      <th>stem-root</th>\n",
       "      <th>stem-surface</th>\n",
       "      <th>stem-color</th>\n",
       "      <th>veil-type</th>\n",
       "      <th>veil-color</th>\n",
       "      <th>has-ring</th>\n",
       "      <th>ring-type</th>\n",
       "      <th>spore-print-color</th>\n",
       "      <th>habitat</th>\n",
       "      <th>season</th>\n",
       "    </tr>\n",
       "  </thead>\n",
       "  <tbody>\n",
       "    <tr>\n",
       "      <th>0</th>\n",
       "      <td>0</td>\n",
       "      <td>0</td>\n",
       "      <td>8.80</td>\n",
       "      <td>1</td>\n",
       "      <td>1</td>\n",
       "      <td>1</td>\n",
       "      <td>1</td>\n",
       "      <td>1</td>\n",
       "      <td>1</td>\n",
       "      <td>1</td>\n",
       "      <td>...</td>\n",
       "      <td>0</td>\n",
       "      <td>0</td>\n",
       "      <td>1</td>\n",
       "      <td>0</td>\n",
       "      <td>0</td>\n",
       "      <td>1</td>\n",
       "      <td>1</td>\n",
       "      <td>0</td>\n",
       "      <td>1</td>\n",
       "      <td>0</td>\n",
       "    </tr>\n",
       "    <tr>\n",
       "      <th>1</th>\n",
       "      <td>1</td>\n",
       "      <td>1</td>\n",
       "      <td>4.51</td>\n",
       "      <td>2</td>\n",
       "      <td>2</td>\n",
       "      <td>2</td>\n",
       "      <td>1</td>\n",
       "      <td>1</td>\n",
       "      <td>1</td>\n",
       "      <td>2</td>\n",
       "      <td>...</td>\n",
       "      <td>0</td>\n",
       "      <td>1</td>\n",
       "      <td>2</td>\n",
       "      <td>0</td>\n",
       "      <td>0</td>\n",
       "      <td>2</td>\n",
       "      <td>2</td>\n",
       "      <td>0</td>\n",
       "      <td>1</td>\n",
       "      <td>1</td>\n",
       "    </tr>\n",
       "    <tr>\n",
       "      <th>2</th>\n",
       "      <td>2</td>\n",
       "      <td>0</td>\n",
       "      <td>6.94</td>\n",
       "      <td>1</td>\n",
       "      <td>1</td>\n",
       "      <td>3</td>\n",
       "      <td>1</td>\n",
       "      <td>2</td>\n",
       "      <td>1</td>\n",
       "      <td>1</td>\n",
       "      <td>...</td>\n",
       "      <td>0</td>\n",
       "      <td>2</td>\n",
       "      <td>3</td>\n",
       "      <td>0</td>\n",
       "      <td>0</td>\n",
       "      <td>1</td>\n",
       "      <td>1</td>\n",
       "      <td>0</td>\n",
       "      <td>2</td>\n",
       "      <td>1</td>\n",
       "    </tr>\n",
       "    <tr>\n",
       "      <th>3</th>\n",
       "      <td>3</td>\n",
       "      <td>0</td>\n",
       "      <td>3.88</td>\n",
       "      <td>1</td>\n",
       "      <td>3</td>\n",
       "      <td>4</td>\n",
       "      <td>1</td>\n",
       "      <td>3</td>\n",
       "      <td>0</td>\n",
       "      <td>3</td>\n",
       "      <td>...</td>\n",
       "      <td>0</td>\n",
       "      <td>0</td>\n",
       "      <td>1</td>\n",
       "      <td>0</td>\n",
       "      <td>0</td>\n",
       "      <td>1</td>\n",
       "      <td>1</td>\n",
       "      <td>0</td>\n",
       "      <td>1</td>\n",
       "      <td>2</td>\n",
       "    </tr>\n",
       "    <tr>\n",
       "      <th>4</th>\n",
       "      <td>4</td>\n",
       "      <td>0</td>\n",
       "      <td>5.85</td>\n",
       "      <td>2</td>\n",
       "      <td>4</td>\n",
       "      <td>5</td>\n",
       "      <td>1</td>\n",
       "      <td>4</td>\n",
       "      <td>0</td>\n",
       "      <td>1</td>\n",
       "      <td>...</td>\n",
       "      <td>0</td>\n",
       "      <td>0</td>\n",
       "      <td>1</td>\n",
       "      <td>0</td>\n",
       "      <td>0</td>\n",
       "      <td>1</td>\n",
       "      <td>1</td>\n",
       "      <td>0</td>\n",
       "      <td>3</td>\n",
       "      <td>0</td>\n",
       "    </tr>\n",
       "  </tbody>\n",
       "</table>\n",
       "<p>5 rows × 22 columns</p>\n",
       "</div>"
      ],
      "text/plain": [
       "   id  class  cap-diameter  cap-shape  cap-surface  cap-color  \\\n",
       "0   0      0          8.80          1            1          1   \n",
       "1   1      1          4.51          2            2          2   \n",
       "2   2      0          6.94          1            1          3   \n",
       "3   3      0          3.88          1            3          4   \n",
       "4   4      0          5.85          2            4          5   \n",
       "\n",
       "   does-bruise-or-bleed  gill-attachment  gill-spacing  gill-color  ...  \\\n",
       "0                     1                1             1           1  ...   \n",
       "1                     1                1             1           2  ...   \n",
       "2                     1                2             1           1  ...   \n",
       "3                     1                3             0           3  ...   \n",
       "4                     1                4             0           1  ...   \n",
       "\n",
       "   stem-root  stem-surface  stem-color  veil-type  veil-color  has-ring  \\\n",
       "0          0             0           1          0           0         1   \n",
       "1          0             1           2          0           0         2   \n",
       "2          0             2           3          0           0         1   \n",
       "3          0             0           1          0           0         1   \n",
       "4          0             0           1          0           0         1   \n",
       "\n",
       "   ring-type  spore-print-color  habitat  season  \n",
       "0          1                  0        1       0  \n",
       "1          2                  0        1       1  \n",
       "2          1                  0        2       1  \n",
       "3          1                  0        1       2  \n",
       "4          1                  0        3       0  \n",
       "\n",
       "[5 rows x 22 columns]"
      ]
     },
     "execution_count": 29,
     "metadata": {},
     "output_type": "execute_result"
    }
   ],
   "source": [
    "for col in categorical_columns:\n",
    "    logger.info(f\"{col}: {df[col].unique()}\\n\")\n",
    "\n",
    "    if df[col].isnull().sum() > 0:\n",
    "        df[col] = pd.factorize(df[col])[0] + 1\n",
    "        df[col] = df[col].fillna(0).astype(int)\n",
    "    else:\n",
    "        df[col] = pd.factorize(df[col])[0]\n",
    "df.head()"
   ]
  },
  {
   "cell_type": "code",
   "execution_count": 30,
   "metadata": {},
   "outputs": [],
   "source": [
    "# 欠損値のあるカテゴリカルデータをダミー変数化\n",
    "# df = pd.get_dummies(df, dummy_na=True)\n",
    "# df.head()"
   ]
  },
  {
   "cell_type": "code",
   "execution_count": 31,
   "metadata": {},
   "outputs": [],
   "source": [
    "# from ydata_profiling import ProfileReport\n",
    "# profile = ProfileReport(df, title='Pandas Profiling Report', explorative=True)\n",
    "# # profile.to_widgets()\n",
    "# profile.to_file(\"Processed.html\")"
   ]
  },
  {
   "cell_type": "code",
   "execution_count": 32,
   "metadata": {},
   "outputs": [],
   "source": [
    "df.drop(columns=[\"id\"], inplace=True)"
   ]
  },
  {
   "cell_type": "code",
   "execution_count": 33,
   "metadata": {},
   "outputs": [],
   "source": [
    "# train_valid_split\n",
    "from sklearn.model_selection import train_test_split"
   ]
  },
  {
   "cell_type": "code",
   "execution_count": 34,
   "metadata": {},
   "outputs": [],
   "source": [
    "train, valid = train_test_split(df, test_size=0.2, random_state=42)"
   ]
  },
  {
   "cell_type": "code",
   "execution_count": 35,
   "metadata": {},
   "outputs": [],
   "source": [
    "X_train = train.drop(\"class\", axis=1)\n",
    "y_train = train[\"class\"]\n",
    "X_valid = valid.drop(\"class\", axis=1)\n",
    "y_valid = valid[\"class\"]"
   ]
  },
  {
   "cell_type": "code",
   "execution_count": 36,
   "metadata": {},
   "outputs": [],
   "source": [
    "params = {\n",
    "    \"objective\": \"binary\",\n",
    "    \"metric\": \"auc\",\n",
    "    \"verbosity\": -1,\n",
    "    \"boosting_type\": \"gbdt\",\n",
    "    \"num_iterations\": 200,\n",
    "    \"max_depth\": 12,\n",
    "    \"learning_rate\": 0.01,\n",
    "    \"num_leaves\": 31,\n",
    "    \"random_state\": 42,\n",
    "}\n",
    "verbose_eval = 100"
   ]
  },
  {
   "cell_type": "code",
   "execution_count": 43,
   "metadata": {},
   "outputs": [],
   "source": [
    "def train_kfold(df, params, verbose_eval=100):\n",
    "    kf = KFold(n_splits=5, random_state=42, shuffle=True)\n",
    "    defscore = 0\n",
    "    for i, (train_index, valid_index) in enumerate(kf.split(df)):\n",
    "        train = df.iloc[train_index]\n",
    "        valid = df.iloc[valid_index]\n",
    "        X_train = train.drop(\"class\", axis=1)\n",
    "        y_train = train[\"class\"]\n",
    "        X_valid = valid.drop(\"class\", axis=1)\n",
    "        y_valid = valid[\"class\"]\n",
    "        lgb_train = lgb.Dataset(X_train, y_train)\n",
    "        lgb_valid = lgb.Dataset(X_valid, y_valid)\n",
    "        model = lgb.train(\n",
    "            params,\n",
    "            lgb_train,\n",
    "            valid_sets=[lgb_train, lgb_valid],\n",
    "            callbacks=[\n",
    "                lgb.early_stopping(stopping_rounds=50),\n",
    "                lgb.log_evaluation(verbose_eval),\n",
    "            ],\n",
    "        )\n",
    "        # 精度が最も高いモデルを保存\n",
    "        # 精度計算\n",
    "        y_pred = model.predict(X_valid)\n",
    "        y_pred = np.where(y_pred > 0.5, 1, 0)\n",
    "        accuracy = accuracy_score(y_valid, y_pred)\n",
    "        f1 = f1_score(y_valid, y_pred)\n",
    "        logger.info(f\"accuracy: {accuracy}, f1: {f1}\")\n",
    "        if f1 > defscore:\n",
    "            defscore = f1\n",
    "            bstmodel = model\n",
    "    return bstmodel"
   ]
  },
  {
   "cell_type": "code",
   "execution_count": 44,
   "metadata": {},
   "outputs": [
    {
     "name": "stderr",
     "output_type": "stream",
     "text": [
      "/usr/local/lib/python3.10/dist-packages/lightgbm/engine.py:172: UserWarning: Found `num_iterations` in params. Will use it instead of argument\n",
      "  _log_warning(f\"Found `{alias}` in params. Will use it instead of argument\")\n"
     ]
    },
    {
     "name": "stdout",
     "output_type": "stream",
     "text": [
      "Training until validation scores don't improve for 50 rounds\n",
      "[100]\ttraining's auc: 0.983924\tvalid_1's auc: 0.983788\n",
      "[200]\ttraining's auc: 0.990624\tvalid_1's auc: 0.990561\n",
      "Did not meet early stopping. Best iteration is:\n",
      "[200]\ttraining's auc: 0.990624\tvalid_1's auc: 0.990561\n"
     ]
    },
    {
     "name": "stderr",
     "output_type": "stream",
     "text": [
      "2024-08-23 12:50:52,863 : python.util : INFO : 28 : accuracy: 0.9643432912675713, f1: 0.9675167910774932\n",
      "/usr/local/lib/python3.10/dist-packages/lightgbm/engine.py:172: UserWarning: Found `num_iterations` in params. Will use it instead of argument\n",
      "  _log_warning(f\"Found `{alias}` in params. Will use it instead of argument\")\n"
     ]
    },
    {
     "name": "stdout",
     "output_type": "stream",
     "text": [
      "Training until validation scores don't improve for 50 rounds\n",
      "[100]\ttraining's auc: 0.983613\tvalid_1's auc: 0.983551\n",
      "[200]\ttraining's auc: 0.990671\tvalid_1's auc: 0.99072\n",
      "Did not meet early stopping. Best iteration is:\n",
      "[200]\ttraining's auc: 0.990671\tvalid_1's auc: 0.99072\n"
     ]
    },
    {
     "name": "stderr",
     "output_type": "stream",
     "text": [
      "2024-08-23 12:51:24,850 : python.util : INFO : 28 : accuracy: 0.9644539765700069, f1: 0.9675368340245741\n",
      "/usr/local/lib/python3.10/dist-packages/lightgbm/engine.py:172: UserWarning: Found `num_iterations` in params. Will use it instead of argument\n",
      "  _log_warning(f\"Found `{alias}` in params. Will use it instead of argument\")\n"
     ]
    },
    {
     "name": "stdout",
     "output_type": "stream",
     "text": [
      "Training until validation scores don't improve for 50 rounds\n",
      "[100]\ttraining's auc: 0.983507\tvalid_1's auc: 0.983508\n",
      "[200]\ttraining's auc: 0.990773\tvalid_1's auc: 0.990655\n",
      "Did not meet early stopping. Best iteration is:\n",
      "[200]\ttraining's auc: 0.990773\tvalid_1's auc: 0.990655\n"
     ]
    },
    {
     "name": "stderr",
     "output_type": "stream",
     "text": [
      "2024-08-23 12:51:56,492 : python.util : INFO : 28 : accuracy: 0.9641347537412435, f1: 0.9673460922803697\n",
      "/usr/local/lib/python3.10/dist-packages/lightgbm/engine.py:172: UserWarning: Found `num_iterations` in params. Will use it instead of argument\n",
      "  _log_warning(f\"Found `{alias}` in params. Will use it instead of argument\")\n"
     ]
    },
    {
     "name": "stdout",
     "output_type": "stream",
     "text": [
      "Training until validation scores don't improve for 50 rounds\n",
      "[100]\ttraining's auc: 0.983972\tvalid_1's auc: 0.984089\n",
      "[200]\ttraining's auc: 0.990845\tvalid_1's auc: 0.990961\n",
      "Did not meet early stopping. Best iteration is:\n",
      "[200]\ttraining's auc: 0.990845\tvalid_1's auc: 0.990961\n"
     ]
    },
    {
     "name": "stderr",
     "output_type": "stream",
     "text": [
      "2024-08-23 12:52:28,473 : python.util : INFO : 28 : accuracy: 0.9650827974186262, f1: 0.9681260607196567\n",
      "/usr/local/lib/python3.10/dist-packages/lightgbm/engine.py:172: UserWarning: Found `num_iterations` in params. Will use it instead of argument\n",
      "  _log_warning(f\"Found `{alias}` in params. Will use it instead of argument\")\n"
     ]
    },
    {
     "name": "stdout",
     "output_type": "stream",
     "text": [
      "Training until validation scores don't improve for 50 rounds\n",
      "[100]\ttraining's auc: 0.983814\tvalid_1's auc: 0.983849\n",
      "[200]\ttraining's auc: 0.99053\tvalid_1's auc: 0.990485\n",
      "Did not meet early stopping. Best iteration is:\n",
      "[200]\ttraining's auc: 0.99053\tvalid_1's auc: 0.990485\n"
     ]
    },
    {
     "name": "stderr",
     "output_type": "stream",
     "text": [
      "2024-08-23 12:53:00,113 : python.util : INFO : 28 : accuracy: 0.9625290147885189, f1: 0.9657123145912384\n"
     ]
    }
   ],
   "source": [
    "model = train_kfold(df, params, verbose_eval=verbose_eval)"
   ]
  },
  {
   "cell_type": "code",
   "execution_count": 45,
   "metadata": {},
   "outputs": [
    {
     "data": {
      "image/png": "[encoded data removed]",
      "text/plain": [
       "<Figure size 640x480 with 2 Axes>"
      ]
     },
     "metadata": {},
     "output_type": "display_data"
    }
   ],
   "source": [
    "# trainデータでpredictして，混同行列にしてみる\n",
    "y_pred = model.predict(X_train)\n",
    "y_pred = np.where(y_pred > 0.5, 1, 0)\n",
    "cm = confusion_matrix(y_train, y_pred)\n",
    "sns.heatmap(cm, annot=True, cmap=\"Blues\")\n",
    "plt.show()\n"
   ]
  },
  {
   "cell_type": "code",
   "execution_count": 46,
   "metadata": {},
   "outputs": [
    {
     "ename": "KeyError",
     "evalue": "\"['class'] not found in axis\"",
     "output_type": "error",
     "traceback": [
      "\u001b[0;31m---------------------------------------------------------------------------\u001b[0m",
      "\u001b[0;31mKeyError\u001b[0m                                  Traceback (most recent call last)",
      "Cell \u001b[0;32mIn[46], line 2\u001b[0m\n\u001b[1;32m      1\u001b[0m \u001b[38;5;66;03m# categorical_columnsから\"class\"を削除\u001b[39;00m\n\u001b[0;32m----> 2\u001b[0m categorical_columns \u001b[38;5;241m=\u001b[39m \u001b[43mcategorical_columns\u001b[49m\u001b[38;5;241;43m.\u001b[39;49m\u001b[43mdrop\u001b[49m\u001b[43m(\u001b[49m\u001b[38;5;124;43m\"\u001b[39;49m\u001b[38;5;124;43mclass\u001b[39;49m\u001b[38;5;124;43m\"\u001b[39;49m\u001b[43m)\u001b[49m\n",
      "File \u001b[0;32m/usr/local/lib/python3.10/dist-packages/pandas/core/indexes/base.py:7069\u001b[0m, in \u001b[0;36mIndex.drop\u001b[0;34m(self, labels, errors)\u001b[0m\n\u001b[1;32m   7067\u001b[0m \u001b[38;5;28;01mif\u001b[39;00m mask\u001b[38;5;241m.\u001b[39many():\n\u001b[1;32m   7068\u001b[0m     \u001b[38;5;28;01mif\u001b[39;00m errors \u001b[38;5;241m!=\u001b[39m \u001b[38;5;124m\"\u001b[39m\u001b[38;5;124mignore\u001b[39m\u001b[38;5;124m\"\u001b[39m:\n\u001b[0;32m-> 7069\u001b[0m         \u001b[38;5;28;01mraise\u001b[39;00m \u001b[38;5;167;01mKeyError\u001b[39;00m(\u001b[38;5;124mf\u001b[39m\u001b[38;5;124m\"\u001b[39m\u001b[38;5;132;01m{\u001b[39;00mlabels[mask]\u001b[38;5;241m.\u001b[39mtolist()\u001b[38;5;132;01m}\u001b[39;00m\u001b[38;5;124m not found in axis\u001b[39m\u001b[38;5;124m\"\u001b[39m)\n\u001b[1;32m   7070\u001b[0m     indexer \u001b[38;5;241m=\u001b[39m indexer[\u001b[38;5;241m~\u001b[39mmask]\n\u001b[1;32m   7071\u001b[0m \u001b[38;5;28;01mreturn\u001b[39;00m \u001b[38;5;28mself\u001b[39m\u001b[38;5;241m.\u001b[39mdelete(indexer)\n",
      "\u001b[0;31mKeyError\u001b[0m: \"['class'] not found in axis\""
     ]
    }
   ],
   "source": [
    "# categorical_columnsから\"class\"を削除\n",
    "categorical_columns = categorical_columns.drop(\"class\")"
   ]
  },
  {
   "cell_type": "code",
   "execution_count": 40,
   "metadata": {},
   "outputs": [
    {
     "data": {
      "text/html": [
       "<div>\n",
       "<style scoped>\n",
       "    .dataframe tbody tr th:only-of-type {\n",
       "        vertical-align: middle;\n",
       "    }\n",
       "\n",
       "    .dataframe tbody tr th {\n",
       "        vertical-align: top;\n",
       "    }\n",
       "\n",
       "    .dataframe thead th {\n",
       "        text-align: right;\n",
       "    }\n",
       "</style>\n",
       "<table border=\"1\" class=\"dataframe\">\n",
       "  <thead>\n",
       "    <tr style=\"text-align: right;\">\n",
       "      <th></th>\n",
       "      <th>id</th>\n",
       "      <th>cap-diameter</th>\n",
       "      <th>cap-shape</th>\n",
       "      <th>cap-surface</th>\n",
       "      <th>cap-color</th>\n",
       "      <th>does-bruise-or-bleed</th>\n",
       "      <th>gill-attachment</th>\n",
       "      <th>gill-spacing</th>\n",
       "      <th>gill-color</th>\n",
       "      <th>stem-height</th>\n",
       "      <th>...</th>\n",
       "      <th>stem-root</th>\n",
       "      <th>stem-surface</th>\n",
       "      <th>stem-color</th>\n",
       "      <th>veil-type</th>\n",
       "      <th>veil-color</th>\n",
       "      <th>has-ring</th>\n",
       "      <th>ring-type</th>\n",
       "      <th>spore-print-color</th>\n",
       "      <th>habitat</th>\n",
       "      <th>season</th>\n",
       "    </tr>\n",
       "  </thead>\n",
       "  <tbody>\n",
       "    <tr>\n",
       "      <th>0</th>\n",
       "      <td>3116945</td>\n",
       "      <td>8.64</td>\n",
       "      <td>1</td>\n",
       "      <td>0</td>\n",
       "      <td>1</td>\n",
       "      <td>1</td>\n",
       "      <td>0</td>\n",
       "      <td>0</td>\n",
       "      <td>1</td>\n",
       "      <td>11.13</td>\n",
       "      <td>...</td>\n",
       "      <td>1</td>\n",
       "      <td>0</td>\n",
       "      <td>1</td>\n",
       "      <td>1</td>\n",
       "      <td>1</td>\n",
       "      <td>1</td>\n",
       "      <td>1</td>\n",
       "      <td>0</td>\n",
       "      <td>1</td>\n",
       "      <td>0</td>\n",
       "    </tr>\n",
       "    <tr>\n",
       "      <th>1</th>\n",
       "      <td>3116946</td>\n",
       "      <td>6.90</td>\n",
       "      <td>2</td>\n",
       "      <td>1</td>\n",
       "      <td>2</td>\n",
       "      <td>2</td>\n",
       "      <td>0</td>\n",
       "      <td>1</td>\n",
       "      <td>2</td>\n",
       "      <td>1.27</td>\n",
       "      <td>...</td>\n",
       "      <td>0</td>\n",
       "      <td>0</td>\n",
       "      <td>2</td>\n",
       "      <td>0</td>\n",
       "      <td>0</td>\n",
       "      <td>2</td>\n",
       "      <td>2</td>\n",
       "      <td>0</td>\n",
       "      <td>1</td>\n",
       "      <td>0</td>\n",
       "    </tr>\n",
       "    <tr>\n",
       "      <th>2</th>\n",
       "      <td>3116947</td>\n",
       "      <td>2.00</td>\n",
       "      <td>3</td>\n",
       "      <td>2</td>\n",
       "      <td>1</td>\n",
       "      <td>2</td>\n",
       "      <td>0</td>\n",
       "      <td>1</td>\n",
       "      <td>3</td>\n",
       "      <td>6.18</td>\n",
       "      <td>...</td>\n",
       "      <td>0</td>\n",
       "      <td>0</td>\n",
       "      <td>2</td>\n",
       "      <td>0</td>\n",
       "      <td>0</td>\n",
       "      <td>2</td>\n",
       "      <td>2</td>\n",
       "      <td>0</td>\n",
       "      <td>1</td>\n",
       "      <td>1</td>\n",
       "    </tr>\n",
       "    <tr>\n",
       "      <th>3</th>\n",
       "      <td>3116948</td>\n",
       "      <td>3.47</td>\n",
       "      <td>1</td>\n",
       "      <td>1</td>\n",
       "      <td>1</td>\n",
       "      <td>2</td>\n",
       "      <td>1</td>\n",
       "      <td>1</td>\n",
       "      <td>3</td>\n",
       "      <td>4.98</td>\n",
       "      <td>...</td>\n",
       "      <td>0</td>\n",
       "      <td>0</td>\n",
       "      <td>1</td>\n",
       "      <td>0</td>\n",
       "      <td>2</td>\n",
       "      <td>1</td>\n",
       "      <td>3</td>\n",
       "      <td>0</td>\n",
       "      <td>1</td>\n",
       "      <td>2</td>\n",
       "    </tr>\n",
       "    <tr>\n",
       "      <th>4</th>\n",
       "      <td>3116949</td>\n",
       "      <td>6.17</td>\n",
       "      <td>1</td>\n",
       "      <td>3</td>\n",
       "      <td>3</td>\n",
       "      <td>2</td>\n",
       "      <td>2</td>\n",
       "      <td>0</td>\n",
       "      <td>2</td>\n",
       "      <td>6.73</td>\n",
       "      <td>...</td>\n",
       "      <td>0</td>\n",
       "      <td>0</td>\n",
       "      <td>3</td>\n",
       "      <td>0</td>\n",
       "      <td>3</td>\n",
       "      <td>1</td>\n",
       "      <td>0</td>\n",
       "      <td>0</td>\n",
       "      <td>1</td>\n",
       "      <td>2</td>\n",
       "    </tr>\n",
       "  </tbody>\n",
       "</table>\n",
       "<p>5 rows × 21 columns</p>\n",
       "</div>"
      ],
      "text/plain": [
       "        id  cap-diameter  cap-shape  cap-surface  cap-color  \\\n",
       "0  3116945          8.64          1            0          1   \n",
       "1  3116946          6.90          2            1          2   \n",
       "2  3116947          2.00          3            2          1   \n",
       "3  3116948          3.47          1            1          1   \n",
       "4  3116949          6.17          1            3          3   \n",
       "\n",
       "   does-bruise-or-bleed  gill-attachment  gill-spacing  gill-color  \\\n",
       "0                     1                0             0           1   \n",
       "1                     2                0             1           2   \n",
       "2                     2                0             1           3   \n",
       "3                     2                1             1           3   \n",
       "4                     2                2             0           2   \n",
       "\n",
       "   stem-height  ...  stem-root  stem-surface  stem-color  veil-type  \\\n",
       "0        11.13  ...          1             0           1          1   \n",
       "1         1.27  ...          0             0           2          0   \n",
       "2         6.18  ...          0             0           2          0   \n",
       "3         4.98  ...          0             0           1          0   \n",
       "4         6.73  ...          0             0           3          0   \n",
       "\n",
       "   veil-color  has-ring  ring-type  spore-print-color  habitat  season  \n",
       "0           1         1          1                  0        1       0  \n",
       "1           0         2          2                  0        1       0  \n",
       "2           0         2          2                  0        1       1  \n",
       "3           2         1          3                  0        1       2  \n",
       "4           3         1          0                  0        1       2  \n",
       "\n",
       "[5 rows x 21 columns]"
      ]
     },
     "execution_count": 40,
     "metadata": {},
     "output_type": "execute_result"
    }
   ],
   "source": [
    "# testデータの読み込み\n",
    "test = pd.read_csv(DATA_PATH / \"test.csv\")\n",
    "# testデータの前処理\n",
    "for col in categorical_columns:\n",
    "    if test[col].isnull().sum() > 0:\n",
    "        test[col] = pd.factorize(test[col])[0] + 1\n",
    "        test[col] = test[col].fillna(0).astype(int)\n",
    "    else:\n",
    "        test[col] = pd.factorize(test[col])[0]\n",
    "test.head()"
   ]
  },
  {
   "cell_type": "code",
   "execution_count": 41,
   "metadata": {},
   "outputs": [],
   "source": [
    "index = test[\"id\"]\n",
    "#\n",
    "test = test.drop(\"id\", axis=1)"
   ]
  },
  {
   "cell_type": "code",
   "execution_count": 47,
   "metadata": {},
   "outputs": [
    {
     "data": {
      "text/plain": [
       "array([0.43189008, 0.66817774, 0.75178001, ..., 0.27354155, 0.23346889,\n",
       "       0.60632882])"
      ]
     },
     "execution_count": 47,
     "metadata": {},
     "output_type": "execute_result"
    }
   ],
   "source": [
    "# testデータの予測\n",
    "prediction = model.predict(test, num_iteration=model.best_iteration)\n",
    "prediction"
   ]
  },
  {
   "cell_type": "code",
   "execution_count": 48,
   "metadata": {},
   "outputs": [
    {
     "data": {
      "text/plain": [
       "(2077964,)"
      ]
     },
     "execution_count": 48,
     "metadata": {},
     "output_type": "execute_result"
    }
   ],
   "source": [
    "prediction.shape"
   ]
  },
  {
   "cell_type": "code",
   "execution_count": 49,
   "metadata": {},
   "outputs": [
    {
     "data": {
      "text/plain": [
       "(2077964,)"
      ]
     },
     "execution_count": 49,
     "metadata": {},
     "output_type": "execute_result"
    }
   ],
   "source": [
    "prediction_labels = np.where(prediction >= 0.5, \"p\", \"e\")\n",
    "prediction_labels.shape"
   ]
  },
  {
   "cell_type": "code",
   "execution_count": 50,
   "metadata": {},
   "outputs": [
    {
     "data": {
      "image/png": "[encoded data removed]",
      "text/plain": [
       "<Figure size 640x480 with 1 Axes>"
      ]
     },
     "metadata": {},
     "output_type": "display_data"
    }
   ],
   "source": [
    "#test.plot\n",
    "sns.countplot(prediction_labels)\n",
    "plt.show()\n"
   ]
  },
  {
   "cell_type": "code",
   "execution_count": null,
   "metadata": {},
   "outputs": [],
   "source": [
    "# 提出用のDataFrameを作成\n",
    "submission = pd.DataFrame({\"id\": index, \"class\": prediction_labels})"
   ]
  },
  {
   "cell_type": "code",
   "execution_count": null,
   "metadata": {},
   "outputs": [
    {
     "data": {
      "text/html": [
       "<div>\n",
       "<style scoped>\n",
       "    .dataframe tbody tr th:only-of-type {\n",
       "        vertical-align: middle;\n",
       "    }\n",
       "\n",
       "    .dataframe tbody tr th {\n",
       "        vertical-align: top;\n",
       "    }\n",
       "\n",
       "    .dataframe thead th {\n",
       "        text-align: right;\n",
       "    }\n",
       "</style>\n",
       "<table border=\"1\" class=\"dataframe\">\n",
       "  <thead>\n",
       "    <tr style=\"text-align: right;\">\n",
       "      <th></th>\n",
       "      <th>id</th>\n",
       "      <th>class</th>\n",
       "    </tr>\n",
       "  </thead>\n",
       "  <tbody>\n",
       "    <tr>\n",
       "      <th>0</th>\n",
       "      <td>3116945</td>\n",
       "      <td>p</td>\n",
       "    </tr>\n",
       "    <tr>\n",
       "      <th>1</th>\n",
       "      <td>3116946</td>\n",
       "      <td>e</td>\n",
       "    </tr>\n",
       "    <tr>\n",
       "      <th>2</th>\n",
       "      <td>3116947</td>\n",
       "      <td>e</td>\n",
       "    </tr>\n",
       "    <tr>\n",
       "      <th>3</th>\n",
       "      <td>3116948</td>\n",
       "      <td>e</td>\n",
       "    </tr>\n",
       "    <tr>\n",
       "      <th>4</th>\n",
       "      <td>3116949</td>\n",
       "      <td>e</td>\n",
       "    </tr>\n",
       "  </tbody>\n",
       "</table>\n",
       "</div>"
      ],
      "text/plain": [
       "        id class\n",
       "0  3116945     p\n",
       "1  3116946     e\n",
       "2  3116947     e\n",
       "3  3116948     e\n",
       "4  3116949     e"
      ]
     },
     "execution_count": 51,
     "metadata": {},
     "output_type": "execute_result"
    }
   ],
   "source": [
    "submission.head()"
   ]
  },
  {
   "cell_type": "code",
   "execution_count": null,
   "metadata": {},
   "outputs": [],
   "source": [
    "submission.to_csv(DATA_PATH / \"submission.csv\", index=False)"
   ]
  },
  {
   "cell_type": "code",
   "execution_count": null,
   "metadata": {},
   "outputs": [],
   "source": [
    "import shap\n",
    "\n",
    "# notebook内でJavascriptを動かすためのおまじない\n",
    "shap.initjs()\n",
    "\n",
    "\"\"\"\n",
    "shap.TreeExplainer:決定木用(XGBoost、lightBGM等含む)\n",
    "shap.LinearExplainer :線形モデル用\n",
    "shap.DeepExplainer :Deeplearning用\n",
    "\"\"\"\n",
    "# TreeExplainerは、決定木系のモデルのSHAP値を取得するもの。\n",
    "explainer = shap.Explainer(model=model)\n",
    "\n",
    "print(explainer.expected_value)"
   ]
  },
  {
   "cell_type": "code",
   "execution_count": null,
   "metadata": {},
   "outputs": [],
   "source": [
    "X_test_shap = X_valid.copy().reset_index(drop=True)\n",
    "shap_values = explainer(X=X_test_shap)"
   ]
  },
  {
   "cell_type": "code",
   "execution_count": null,
   "metadata": {},
   "outputs": [],
   "source": [
    "for class_idx in range(2):\n",
    "    print(f\"Class {class_idx} SHAP Summary Plot\")\n",
    "    # 特定のサンプル n に対してウォーターフォールプロットを作成\n",
    "    shap.waterfall_plot(\n",
    "        shap.Explanation(\n",
    "            values=shap_values[n, :, class_idx],\n",
    "            base_values=explainer.expected_value[class_idx],\n",
    "            data=X_test_shap.iloc[n, :],\n",
    "            feature_names=X_test_shap.columns,\n",
    "        ),\n",
    "        show=False,\n",
    "    )\n",
    "    # waterfall plotをsvgで保存\n",
    "    plt.savefig(f\"waterfall_plot_{n}_{class_idx}.svg\")\n",
    "    plt.show()\n",
    "\n",
    "    shap.summary_plot(shap_values[:, :, class_idx], X_test_shap)\n",
    "    shap.summary_plot(\n",
    "        shap_values[:, :, class_idx], X_test_shap, plot_type=\"bar\", show=False\n",
    "    )\n",
    "    # plt.savefig(f\"imp_plot_{n}_{class_idx}.svg\")\n",
    "    plt.show()"
   ]
  },
  {
   "cell_type": "code",
   "execution_count": null,
   "metadata": {},
   "outputs": [],
   "source": []
  },
  {
   "cell_type": "code",
   "execution_count": null,
   "metadata": {},
   "outputs": [],
   "source": []
  }
 ],
 "metadata": {
  "kernelspec": {
   "display_name": "Python 3",
   "language": "python",
   "name": "python3"
  },
  "language_info": {
   "codemirror_mode": {
    "name": "ipython",
    "version": 3
   },
   "file_extension": ".py",
   "mimetype": "text/x-python",
   "name": "python",
   "nbconvert_exporter": "python",
   "pygments_lexer": "ipython3",
   "version": "3.10.12"
  }
 },
 "nbformat": 4,
 "nbformat_minor": 2
}
